{
 "cells": [
  {
   "cell_type": "markdown",
   "metadata": {},
   "source": [
    "## 第1章 起步"
   ]
  },
  {
   "cell_type": "code",
   "execution_count": null,
   "metadata": {},
   "outputs": [],
   "source": [
    "print(\"hello world\")"
   ]
  },
  {
   "cell_type": "markdown",
   "metadata": {},
   "source": [
    "## 第2章 变量和数据类型"
   ]
  },
  {
   "cell_type": "markdown",
   "metadata": {},
   "source": [
    "### 变量\n",
    "变量名只能包含字母、数字和下划线，不能以数字开头。"
   ]
  },
  {
   "cell_type": "code",
   "execution_count": null,
   "metadata": {},
   "outputs": [],
   "source": [
    "message = \"hello world\"\n",
    "print(message)\n",
    "\n",
    "# 同时给多个变量赋值\n",
    "x, y, z = 0, 1, 2\n",
    "print(x, y, z)\n",
    "\n",
    "# 未初始化的变量会报错\n",
    "# print(u)\n",
    "\n",
    "# 常量\n",
    "MAX_CONNECTIONS = 5000 # Python没有内置的常量类型，使用全大写来指出应将某个变量视为常量，其值应始终不变\n",
    "print(MAX_CONNECTIONS)"
   ]
  },
  {
   "cell_type": "markdown",
   "metadata": {},
   "source": [
    "### 字符串"
   ]
  },
  {
   "cell_type": "code",
   "execution_count": null,
   "metadata": {},
   "outputs": [],
   "source": [
    "s1 = \"This is a string.\"\n",
    "s2 = 'weiweicat'\n",
    "\n",
    "# 字符串操作\n",
    "print(s1.title()) # 每个单词首字母大写\n",
    "print(s1.upper())\n",
    "print(s1.lower())\n",
    "print(s1) # 原值\n",
    "\n",
    "# 字符串中使用变量\n",
    "print(f\"hello {s2}!\")\n",
    "print(f\"hello {s2.title()}!\")\n",
    "\n",
    "# f字符串是Python 3.6引入的。\n",
    "# Python 3.5或更早的版本，需要使用format()方法\n",
    "print(\"hello {}!\".format(s2))"
   ]
  },
  {
   "cell_type": "code",
   "execution_count": null,
   "metadata": {},
   "outputs": [],
   "source": [
    "# 制表符\n",
    "print(\"aa\\tbb\")\n",
    "\n",
    "# 删除空白\n",
    "s3 = \" it's python\\t\\n\"\n",
    "print(s3.lstrip())\n",
    "print(s3.rstrip())\n",
    "print(s3.strip())"
   ]
  },
  {
   "cell_type": "markdown",
   "metadata": {},
   "source": [
    "### 数字"
   ]
  },
  {
   "cell_type": "code",
   "execution_count": null,
   "metadata": {},
   "outputs": [],
   "source": [
    "# 整数\n",
    "print(f\"1+2={1+2}\") # 四则运算 + - * /\n",
    "print(f\"2**3={2**3}\") # 乘方\n",
    "\n",
    "# 浮点数\n",
    "print(f\"0.1+0.1={0.1+0.1}\")\n",
    "print(f\"0.1+0.2={0.1+0.2}\") # 精度问题\n",
    "\n",
    "# 整数和浮点数\n",
    "print(f\"4/2={4/2}\") # 将任意两个数相除时，结果总是浮点数，即便这两个数都是整数且能\n",
    "print(f\"2*3.0={2*3.0}\") # 在其他运算中，一个操作数是整数，一个操作数是浮点数，结果总是浮点数\n",
    "\n",
    "# 数中的下划线\n",
    "print(f\"1_000_000={1_000_000}\") # 书写很大的数时，可使用下划线将其中的数字分组。存储这种数时，Python会忽略其中的下划线。"
   ]
  },
  {
   "cell_type": "markdown",
   "metadata": {},
   "source": [
    "### 注释\n",
    "\n",
    "单行注释以 # 开头"
   ]
  },
  {
   "cell_type": "markdown",
   "metadata": {},
   "source": [
    "### Python之禅"
   ]
  },
  {
   "cell_type": "code",
   "execution_count": null,
   "metadata": {},
   "outputs": [],
   "source": [
    "import this"
   ]
  },
  {
   "cell_type": "markdown",
   "metadata": {},
   "source": [
    "## 第3章 列表"
   ]
  },
  {
   "cell_type": "code",
   "execution_count": null,
   "metadata": {},
   "outputs": [],
   "source": [
    "animals = ['cat', 'dog', 'frog', 'cow', 'lion']\n",
    "\n",
    "# 访问\n",
    "print(f\"{animals}, len:{len(animals)}, 0:{animals[0]}, -1:{animals[-1]}\")\n",
    "\n",
    "# 操作\n",
    "animals[-1] = \"tiger\" # 修改\n",
    "print(animals)\n",
    "\n",
    "animals.append(\"lion\") # 追加末尾\n",
    "print(animals)\n",
    "animals.pop() # 移除末尾\n",
    "print(animals)\n",
    "\n",
    "animals.insert(0, \"lion\") # 插入\n",
    "print(animals)\n",
    "del animals[0] # 删除\n",
    "print(animals)\n",
    "\n",
    "animals.pop(0) # 删除指定位置\n",
    "print(animals)\n",
    "animals.remove(\"dog\") # 根据值删除\n",
    "print(animals)\n",
    "\n",
    "# 永久排序\n",
    "animals.sort()\n",
    "print(animals)\n",
    "animals.sort(reverse=True)\n",
    "print(animals)\n",
    "\n",
    "# 临时排序\n",
    "print(sorted(animals))\n",
    "\n",
    "# 反转，是从 n-1 到 0\n",
    "animals.reverse()\n",
    "print(animals)"
   ]
  },
  {
   "cell_type": "markdown",
   "metadata": {},
   "source": [
    "## 第4章 操作列表"
   ]
  },
  {
   "cell_type": "markdown",
   "metadata": {},
   "source": [
    "### 遍历"
   ]
  },
  {
   "cell_type": "code",
   "execution_count": null,
   "metadata": {},
   "outputs": [],
   "source": [
    "animals = ['cat', 'dog', 'eagle']\n",
    "\n",
    "for item in animals:\n",
    "    print(item)\n",
    "    print(f\"I am {item.title()}\\n\")\n",
    "print(f\"Thank you, {animals}\")\n",
    "\n",
    "print(f\"the last animal is {item}\")"
   ]
  },
  {
   "cell_type": "markdown",
   "metadata": {},
   "source": [
    "### 创建数值列表"
   ]
  },
  {
   "cell_type": "code",
   "execution_count": null,
   "metadata": {},
   "outputs": [],
   "source": [
    "# [start, end)\n",
    "for v in range(1, 5):\n",
    "    print(v)\n",
    "\n",
    "print(range(1, 6, 2))\n",
    "print(list(range(1, 6, 2))) # range 转列表\n",
    "\n",
    "digits = list(range(0, 10))\n",
    "# 统计\n",
    "print(f\"min:{min(digits)}, max:{max(digits)}, sum:{sum(digits)}, list:{digits}\")\n",
    "\n",
    "# 列表解析\n",
    "squares = [v ** 2 for v in range(1, 11)]\n",
    "print(squares)"
   ]
  },
  {
   "cell_type": "markdown",
   "metadata": {},
   "source": [
    "### 使用列表的一部分"
   ]
  },
  {
   "cell_type": "code",
   "execution_count": null,
   "metadata": {},
   "outputs": [],
   "source": [
    "animals = ['cat', 'dog', 'eagle', 'frog', 'goose']\n",
    "\n",
    "# 切片\n",
    "print(animals[0:3]) # [start:end)\n",
    "print(animals[:3])\n",
    "print(animals[3:])\n",
    "print(animals[-2:])\n",
    "\n",
    "# 遍历切片\n",
    "for animal in animals[1:3]:\n",
    "    print(animal)\n",
    "\n",
    "# 复制列表\n",
    "big = animals[:]\n",
    "big[0] = 'tiger'\n",
    "big[1] = 'lion'\n",
    "print(f\"big={big}\")\n",
    "print(f\"animals={animals}\")"
   ]
  },
  {
   "cell_type": "markdown",
   "metadata": {},
   "source": [
    "### 元组"
   ]
  },
  {
   "cell_type": "code",
   "execution_count": null,
   "metadata": {},
   "outputs": [],
   "source": [
    "dimensions = (200, 50)\n",
    "print(dimensions)\n",
    "print(dimensions[0])\n",
    "\n",
    "# TypeError: 'tuple' object does not support item assignment\n",
    "# dimensions[0] = 250\n",
    "\n",
    "# 严格地说，元组是由逗号标识的，圆括号只是让元组看起来更整洁、更清晰。如果你要定义只包含一个元素的元组，必须在这个元素后面加上逗号\n",
    "my_t = (3,)\n",
    "print(my_t)\n",
    "\n",
    "# 遍历元组中的所有值\n",
    "for item in dimensions:\n",
    "    print(item)"
   ]
  },
  {
   "cell_type": "markdown",
   "metadata": {},
   "source": [
    "## 第5章 if语句"
   ]
  },
  {
   "cell_type": "markdown",
   "metadata": {},
   "source": [
    "True False\n",
    "and or not\n",
    "in"
   ]
  },
  {
   "cell_type": "code",
   "execution_count": null,
   "metadata": {},
   "outputs": [],
   "source": [
    "name = \"cat\"\n",
    "age = 18\n",
    "print(age == 19 or name == \"dog\")\n",
    "print(age == 18 and name == \"cat\")\n",
    "\n",
    "# 特定值是否包含在列表中\n",
    "animals = ['cat', 'dog', 'eagle', 'frog', 'goose']\n",
    "if 'cat' in animals:\n",
    "    print(\"cat in animals!\")\n",
    "if 'pig' not in animals:\n",
    "    print(\"pig not in animals!\")\n",
    "\n",
    "# if-elif-else\n",
    "if age < 4:\n",
    "    print(\"your admission cost is $0.\")\n",
    "elif age < 18:\n",
    "    print(\"your admission cost is $25.\")\n",
    "else:\n",
    "    print(\"your admission cost is $40.\")\n",
    "\n",
    "# 空列表\n",
    "empty_list = []\n",
    "if empty_list:\n",
    "    print(\"list is not empty\")\n",
    "else:\n",
    "    print(\"list is empty\")\n"
   ]
  },
  {
   "cell_type": "markdown",
   "metadata": {},
   "source": [
    "## 第6章 字典"
   ]
  },
  {
   "cell_type": "code",
   "execution_count": null,
   "metadata": {},
   "outputs": [],
   "source": [
    "# 创建和访问字典\n",
    "map = {'name': 'ik', 'age': 18, 7:7}\n",
    "print(map)\n",
    "print(map['age'])\n",
    "\n",
    "# 直接访问不存在的键会报错，用 get 访问不会\n",
    "# map['pp']\n",
    "print(map.get('pp'))\n",
    "print(map.get('pp', 'not exist'))\n",
    "\n",
    "# 添加、修改、删除字典\n",
    "m2 = {}\n",
    "m2['xx'] = 'll'\n",
    "print(m2)\n",
    "del m2['xx']\n",
    "print(m2)"
   ]
  },
  {
   "cell_type": "code",
   "execution_count": null,
   "metadata": {},
   "outputs": [],
   "source": [
    "map = {'name': 'cat', age: 12, 'height': 180}\n",
    "print(map)\n",
    "print(map.items())\n",
    "print(map.keys())\n",
    "print(map.values())\n",
    "\n",
    "# 遍历键值\n",
    "for k,v in map.items():\n",
    "    print(f\"k:{k}, v:{v}\")\n",
    "\n",
    "# 遍历键\n",
    "for k in map.keys():\n",
    "    print(k)\n",
    "\n",
    "# 遍历值\n",
    "for v in map.values():\n",
    "    print(v)"
   ]
  },
  {
   "cell_type": "markdown",
   "metadata": {},
   "source": [
    "## 第7章 用户输入和while循环"
   ]
  },
  {
   "cell_type": "code",
   "execution_count": null,
   "metadata": {},
   "outputs": [],
   "source": [
    "# 输入\n",
    "age = input(\"your age:\")\n",
    "age = int(age)\n",
    "if age < 18:\n",
    "    print(f\"younger, {age}\")\n",
    "else:\n",
    "    print(f\"older, {age}\")\n",
    "\n",
    "# 循环获取命令\n",
    "while True:\n",
    "    cmd = input(\"cmd:\")\n",
    "    if cmd.lower() == \"q\":\n",
    "        print(\"quit\")\n",
    "        break\n",
    "    print(f\"your cmd: {cmd}\")"
   ]
  },
  {
   "cell_type": "code",
   "execution_count": null,
   "metadata": {},
   "outputs": [],
   "source": [
    "# 循环删除\n",
    "animals = ['cat', 'dog', 'cat', 'cat']\n",
    "print(animals)\n",
    "while 'cat' in animals:\n",
    "    animals.remove('cat')\n",
    "    print(animals)"
   ]
  },
  {
   "cell_type": "markdown",
   "metadata": {},
   "source": [
    "## 第8章 函数"
   ]
  },
  {
   "cell_type": "code",
   "execution_count": null,
   "metadata": {},
   "outputs": [],
   "source": [
    "def greet_user(name):\n",
    "    \"\"\"显示简单的问候语。\"\"\" # 文档字符串用三引号括起，Python使用它们来生成有关程序中函数的文档。\n",
    "    print(f\"Hello, {name}!\")\n",
    "\n",
    "greet_user(\"weiweicat\")"
   ]
  },
  {
   "cell_type": "markdown",
   "metadata": {},
   "source": [
    "## 第10章 文件和异常"
   ]
  },
  {
   "cell_type": "code",
   "execution_count": null,
   "metadata": {},
   "outputs": [],
   "source": [
    "# 读取\n",
    "file = 'pi.txt'\n",
    "\n",
    "# 读取全部\n",
    "with open(file) as file_object:\n",
    "    content = file_object.read()\n",
    "print(content)\n",
    "print(content[:11])\n",
    "\n",
    "# 逐行打印\n",
    "with open(file) as file_object:\n",
    "    for line in file_object:\n",
    "        print(line.rstrip())\n",
    "\n",
    "# 逐行打印\n",
    "with open(file) as file_object:\n",
    "    lines = file_object.readlines()\n",
    "\n",
    "for line in lines:\n",
    "    print(line.rstrip())"
   ]
  },
  {
   "cell_type": "code",
   "execution_count": null,
   "metadata": {},
   "outputs": [],
   "source": [
    "# 写入\n",
    "file = 'write.txt'\n",
    "\n",
    "# 读取模式（'r'）、写入模式（'w'）、附加模式（'a'）或读写模式（'r+'）\n",
    "with open(file, 'w') as file_object:\n",
    "    file_object.write(\"hello world!\\n\")"
   ]
  },
  {
   "cell_type": "code",
   "execution_count": 29,
   "metadata": {},
   "outputs": [
    {
     "name": "stdout",
     "output_type": "stream",
     "text": [
      "answer:0.3333333333333333\n",
      "You can't divide by 0!\n"
     ]
    }
   ],
   "source": [
    "# 异常\n",
    "while True:\n",
    "    a = input(\"first number, or q for quit\")\n",
    "    if a == 'q':\n",
    "        break\n",
    "\n",
    "    b = input(\"second number, or q for quit\")\n",
    "    if b == 'q':\n",
    "        break\n",
    "\n",
    "    try:\n",
    "        ans = int(a) / int(b)\n",
    "    except ZeroDivisionError:\n",
    "        print(\"You can't divide by 0!\")\n",
    "    except ValueError:\n",
    "        pass # 静默占位符\n",
    "    else:\n",
    "        print(f\"answer:{ans}\")\n",
    "    print(\"next\")"
   ]
  },
  {
   "cell_type": "code",
   "execution_count": 35,
   "metadata": {},
   "outputs": [
    {
     "name": "stdout",
     "output_type": "stream",
     "text": [
      "{'name': 'cat', 'age': 12}\n"
     ]
    }
   ],
   "source": [
    "# json\n",
    "import json\n",
    "\n",
    "cat = {\"name\":\"cat\", \"age\": 12}\n",
    "\n",
    "with open('cat.json', 'w') as f:\n",
    "    json.dump(cat, f)\n",
    "\n",
    "with open('cat.json') as f:\n",
    "    content = json.load(f)\n",
    "print(content)"
   ]
  }
 ],
 "metadata": {
  "kernelspec": {
   "display_name": "Python 3",
   "language": "python",
   "name": "python3"
  },
  "language_info": {
   "codemirror_mode": {
    "name": "ipython",
    "version": 3
   },
   "file_extension": ".py",
   "mimetype": "text/x-python",
   "name": "python",
   "nbconvert_exporter": "python",
   "pygments_lexer": "ipython3",
   "version": "3.11.6"
  }
 },
 "nbformat": 4,
 "nbformat_minor": 2
}
